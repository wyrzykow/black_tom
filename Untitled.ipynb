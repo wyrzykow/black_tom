{
 "cells": [
  {
   "cell_type": "code",
   "execution_count": 1,
   "metadata": {},
   "outputs": [],
   "source": [
    "from tom_targets.models import Target\n"
   ]
  },
  {
   "cell_type": "code",
   "execution_count": 2,
   "metadata": {},
   "outputs": [
    {
     "name": "stdout",
     "output_type": "stream",
     "text": [
      "Gaia19duw\n"
     ]
    }
   ],
   "source": [
    "target = Target.objects.get(name='Gaia19duw')\n",
    "print (target)"
   ]
  },
  {
   "cell_type": "code",
   "execution_count": 4,
   "metadata": {},
   "outputs": [],
   "source": [
    "# from tom_targets.templatetags.targets_extras import target_extra_field\n",
    "# jj=target_extra_field(target=target, name='jdlastobs')\n",
    "# print(float(jj))\n",
    "new=1234.\n",
    "#target.save(extras={'jdlastobs': new})"
   ]
  },
  {
   "cell_type": "code",
   "execution_count": 7,
   "metadata": {},
   "outputs": [
    {
     "name": "stderr",
     "output_type": "stream",
     "text": [
      "Target post save hook: Gaia19duw created: False\n"
     ]
    },
    {
     "name": "stdout",
     "output_type": "stream",
     "text": [
      "jdlastobs: 2458762.794\n"
     ]
    },
    {
     "name": "stderr",
     "output_type": "stream",
     "text": [
      "Target post save hook: Gaia19duw created: False\n"
     ]
    },
    {
     "name": "stdout",
     "output_type": "stream",
     "text": [
      "DEBUG:  2458762.794 1234.0\n",
      "DEBUG saving new jdlast.\n",
      "DEBUG:  2458762.794 2458762.794\n"
     ]
    },
    {
     "name": "stderr",
     "output_type": "stream",
     "text": [
      "Gaia19duw: follow-up data on CPCS found\n",
      "Gaia19duw: follow-up data on CPCS found\n"
     ]
    }
   ],
   "source": [
    "from tom_targets.models import TargetExtra\n",
    "jj=TargetExtra.objects.filter(target=target, key='jdlastobs')\n",
    "print(jj[0])\n",
    "jj[0].value = new\n",
    "target.save(extras={'jdlastobs': str(new)})"
   ]
  },
  {
   "cell_type": "code",
   "execution_count": 5,
   "metadata": {},
   "outputs": [],
   "source": [
    "from tom_targets.models import Target\n",
    "from tom_observations.facilities.lco import LCOFacility, LCOBaseObservationForm\n"
   ]
  },
  {
   "cell_type": "code",
   "execution_count": 13,
   "metadata": {},
   "outputs": [
    {
     "ename": "KeyError",
     "evalue": "'filter'",
     "output_type": "error",
     "traceback": [
      "\u001b[0;31m---------------------------------------------------------------------------\u001b[0m",
      "\u001b[0;31mKeyError\u001b[0m                                  Traceback (most recent call last)",
      "\u001b[0;32m<ipython-input-13-a81381ffc953>\u001b[0m in \u001b[0;36m<module>\u001b[0;34m\u001b[0m\n\u001b[1;32m     16\u001b[0m     \u001b[0;34m'facility'\u001b[0m\u001b[0;34m:\u001b[0m \u001b[0;34m'LCO'\u001b[0m\u001b[0;34m\u001b[0m\u001b[0;34m\u001b[0m\u001b[0m\n\u001b[1;32m     17\u001b[0m })\n\u001b[0;32m---> 18\u001b[0;31m \u001b[0mform\u001b[0m\u001b[0;34m.\u001b[0m\u001b[0mis_valid\u001b[0m\u001b[0;34m(\u001b[0m\u001b[0;34m)\u001b[0m\u001b[0;34m\u001b[0m\u001b[0;34m\u001b[0m\u001b[0m\n\u001b[0m",
      "\u001b[0;32m~/tom_env/src/tomtoolkit/tom_observations/facilities/lco.py\u001b[0m in \u001b[0;36mis_valid\u001b[0;34m(self)\u001b[0m\n\u001b[1;32m    135\u001b[0m         \u001b[0;31m# TODO this is a bit leaky and should be done without the need of get_service_class\u001b[0m\u001b[0;34m\u001b[0m\u001b[0;34m\u001b[0m\u001b[0;34m\u001b[0m\u001b[0m\n\u001b[1;32m    136\u001b[0m         \u001b[0mobs_module\u001b[0m \u001b[0;34m=\u001b[0m \u001b[0mget_service_class\u001b[0m\u001b[0;34m(\u001b[0m\u001b[0mself\u001b[0m\u001b[0;34m.\u001b[0m\u001b[0mcleaned_data\u001b[0m\u001b[0;34m[\u001b[0m\u001b[0;34m'facility'\u001b[0m\u001b[0;34m]\u001b[0m\u001b[0;34m)\u001b[0m\u001b[0;34m\u001b[0m\u001b[0;34m\u001b[0m\u001b[0m\n\u001b[0;32m--> 137\u001b[0;31m         \u001b[0merrors\u001b[0m \u001b[0;34m=\u001b[0m \u001b[0mobs_module\u001b[0m\u001b[0;34m(\u001b[0m\u001b[0;34m)\u001b[0m\u001b[0;34m.\u001b[0m\u001b[0mvalidate_observation\u001b[0m\u001b[0;34m(\u001b[0m\u001b[0mself\u001b[0m\u001b[0;34m.\u001b[0m\u001b[0mobservation_payload\u001b[0m\u001b[0;34m(\u001b[0m\u001b[0;34m)\u001b[0m\u001b[0;34m)\u001b[0m\u001b[0;34m\u001b[0m\u001b[0;34m\u001b[0m\u001b[0m\n\u001b[0m\u001b[1;32m    138\u001b[0m         \u001b[0;32mif\u001b[0m \u001b[0merrors\u001b[0m\u001b[0;34m:\u001b[0m\u001b[0;34m\u001b[0m\u001b[0;34m\u001b[0m\u001b[0m\n\u001b[1;32m    139\u001b[0m             \u001b[0mself\u001b[0m\u001b[0;34m.\u001b[0m\u001b[0madd_error\u001b[0m\u001b[0;34m(\u001b[0m\u001b[0;32mNone\u001b[0m\u001b[0;34m,\u001b[0m \u001b[0mself\u001b[0m\u001b[0;34m.\u001b[0m\u001b[0m_flatten_error_dict\u001b[0m\u001b[0;34m(\u001b[0m\u001b[0merrors\u001b[0m\u001b[0;34m)\u001b[0m\u001b[0;34m)\u001b[0m\u001b[0;34m\u001b[0m\u001b[0;34m\u001b[0m\u001b[0m\n",
      "\u001b[0;32m~/tom_env/src/tomtoolkit/tom_observations/facilities/lco.py\u001b[0m in \u001b[0;36mobservation_payload\u001b[0;34m(self)\u001b[0m\n\u001b[1;32m    243\u001b[0m             \"requests\": [\n\u001b[1;32m    244\u001b[0m                 {\n\u001b[0;32m--> 245\u001b[0;31m                     \u001b[0;34m\"configurations\"\u001b[0m\u001b[0;34m:\u001b[0m \u001b[0;34m[\u001b[0m\u001b[0mself\u001b[0m\u001b[0;34m.\u001b[0m\u001b[0m_build_configuration\u001b[0m\u001b[0;34m(\u001b[0m\u001b[0;34m)\u001b[0m\u001b[0;34m]\u001b[0m\u001b[0;34m,\u001b[0m\u001b[0;34m\u001b[0m\u001b[0;34m\u001b[0m\u001b[0m\n\u001b[0m\u001b[1;32m    246\u001b[0m                     \"windows\": [\n\u001b[1;32m    247\u001b[0m                         {\n",
      "\u001b[0;32m~/tom_env/src/tomtoolkit/tom_observations/facilities/lco.py\u001b[0m in \u001b[0;36m_build_configuration\u001b[0;34m(self)\u001b[0m\n\u001b[1;32m    222\u001b[0m             \u001b[0;34m'instrument_type'\u001b[0m\u001b[0;34m:\u001b[0m \u001b[0mself\u001b[0m\u001b[0;34m.\u001b[0m\u001b[0mcleaned_data\u001b[0m\u001b[0;34m[\u001b[0m\u001b[0;34m'instrument_type'\u001b[0m\u001b[0;34m]\u001b[0m\u001b[0;34m,\u001b[0m\u001b[0;34m\u001b[0m\u001b[0;34m\u001b[0m\u001b[0m\n\u001b[1;32m    223\u001b[0m             \u001b[0;34m'target'\u001b[0m\u001b[0;34m:\u001b[0m \u001b[0mself\u001b[0m\u001b[0;34m.\u001b[0m\u001b[0m_build_target_fields\u001b[0m\u001b[0;34m(\u001b[0m\u001b[0;34m)\u001b[0m\u001b[0;34m,\u001b[0m\u001b[0;34m\u001b[0m\u001b[0;34m\u001b[0m\u001b[0m\n\u001b[0;32m--> 224\u001b[0;31m             \u001b[0;34m'instrument_configs'\u001b[0m\u001b[0;34m:\u001b[0m \u001b[0;34m[\u001b[0m\u001b[0mself\u001b[0m\u001b[0;34m.\u001b[0m\u001b[0m_build_instrument_config\u001b[0m\u001b[0;34m(\u001b[0m\u001b[0;34m)\u001b[0m\u001b[0;34m]\u001b[0m\u001b[0;34m,\u001b[0m\u001b[0;34m\u001b[0m\u001b[0;34m\u001b[0m\u001b[0m\n\u001b[0m\u001b[1;32m    225\u001b[0m             'acquisition_config': {\n\u001b[1;32m    226\u001b[0m \u001b[0;34m\u001b[0m\u001b[0m\n",
      "\u001b[0;32m~/tom_env/src/tomtoolkit/tom_observations/facilities/lco.py\u001b[0m in \u001b[0;36m_build_instrument_config\u001b[0;34m(self)\u001b[0m\n\u001b[1;32m    211\u001b[0m             \u001b[0;34m'exposure_time'\u001b[0m\u001b[0;34m:\u001b[0m \u001b[0mself\u001b[0m\u001b[0;34m.\u001b[0m\u001b[0mcleaned_data\u001b[0m\u001b[0;34m[\u001b[0m\u001b[0;34m'exposure_time'\u001b[0m\u001b[0;34m]\u001b[0m\u001b[0;34m,\u001b[0m\u001b[0;34m\u001b[0m\u001b[0;34m\u001b[0m\u001b[0m\n\u001b[1;32m    212\u001b[0m             'optical_elements': {\n\u001b[0;32m--> 213\u001b[0;31m                 \u001b[0;34m'filter'\u001b[0m\u001b[0;34m:\u001b[0m \u001b[0mself\u001b[0m\u001b[0;34m.\u001b[0m\u001b[0mcleaned_data\u001b[0m\u001b[0;34m[\u001b[0m\u001b[0;34m'filter'\u001b[0m\u001b[0;34m]\u001b[0m\u001b[0;34m\u001b[0m\u001b[0;34m\u001b[0m\u001b[0m\n\u001b[0m\u001b[1;32m    214\u001b[0m             }\n\u001b[1;32m    215\u001b[0m         }\n",
      "\u001b[0;31mKeyError\u001b[0m: 'filter'"
     ]
    }
   ],
   "source": [
    "target = Target.objects.get(name='Gaia19duw')\n",
    "\n",
    "form = LCOBaseObservationForm({\n",
    "    'name': 'Programmatic Observation',\n",
    "    'proposal': 'DDT2019B-006',\n",
    "    'ipp_value': 1.05,\n",
    "    'start': '2019-10-02T00:00:00',\n",
    "    'end': '2019-10-03T00:00:00',\n",
    "    'filter': 'g',\n",
    "    'instrument_type': '1M0-SCICAM-SINISTRO',\n",
    "    'exposure_count': 1,\n",
    "    'exposure_time': 60,\n",
    "    'max_airmass': 2.0,\n",
    "    'observation_mode': 'NORMAL',\n",
    "    'target_id': target.id,\n",
    "    'facility': 'LCO'\n",
    "})\n",
    "form.is_valid()"
   ]
  },
  {
   "cell_type": "code",
   "execution_count": 9,
   "metadata": {},
   "outputs": [
    {
     "name": "stdout",
     "output_type": "stream",
     "text": [
      "[1944970]\n"
     ]
    }
   ],
   "source": [
    "observation_ids = LCOFacility().submit_observation(form.observation_payload())\n",
    "print(observation_ids)"
   ]
  },
  {
   "cell_type": "code",
   "execution_count": 10,
   "metadata": {},
   "outputs": [],
   "source": [
    "from tom_observations.models import ObservationRecord"
   ]
  },
  {
   "cell_type": "code",
   "execution_count": 11,
   "metadata": {},
   "outputs": [
    {
     "name": "stderr",
     "output_type": "stream",
     "text": [
      "Observation change state hook: Gaia19duw @ LCO from None to \n"
     ]
    },
    {
     "name": "stdout",
     "output_type": "stream",
     "text": [
      "Gaia19duw @ LCO\n"
     ]
    }
   ],
   "source": [
    "for observation_id in observation_ids:\n",
    "    record = ObservationRecord.objects.create(\n",
    "        target=target,\n",
    "        facility='LCO',\n",
    "        parameters=form.serialize_parameters(),\n",
    "        observation_id=observation_id\n",
    "    )\n",
    "print(record)"
   ]
  },
  {
   "cell_type": "code",
   "execution_count": 25,
   "metadata": {},
   "outputs": [
    {
     "data": {
      "text/plain": [
       "True"
      ]
     },
     "execution_count": 25,
     "metadata": {},
     "output_type": "execute_result"
    }
   ],
   "source": [
    "target = Target.objects.get(name='Gaia19duw')\n",
    "\n",
    "form = LCOBaseObservationForm({\n",
    "    'name': 'TOMWorkshop:Gaia19duw by LW',\n",
    "    'proposal': 'DDT2019B-006',\n",
    "    'ipp_value': 1.05,\n",
    "    'start': '2019-10-03T00:00:00',\n",
    "    'end': '2019-10-05T00:00:00',\n",
    "    'filter': 'R',\n",
    "    'instrument_type': '1M0-SCICAM-SINISTRO',\n",
    "    'exposure_count': 1,\n",
    "    'exposure_time': 60,\n",
    "    'max_airmass': 3.0,\n",
    "    'observation_mode': 'NORMAL',\n",
    "    'target_id': target.id,\n",
    "    'facility': 'LCO'\n",
    "})\n",
    "form.is_valid()"
   ]
  },
  {
   "cell_type": "code",
   "execution_count": 26,
   "metadata": {},
   "outputs": [
    {
     "name": "stdout",
     "output_type": "stream",
     "text": [
      "[1945108]\n"
     ]
    }
   ],
   "source": [
    "observation_ids = LCOFacility().submit_observation(form.observation_payload())\n",
    "print(observation_ids)"
   ]
  },
  {
   "cell_type": "code",
   "execution_count": 27,
   "metadata": {},
   "outputs": [
    {
     "name": "stderr",
     "output_type": "stream",
     "text": [
      "Observation change state hook: Gaia19duw @ LCO from None to \n"
     ]
    },
    {
     "name": "stdout",
     "output_type": "stream",
     "text": [
      "Gaia19duw @ LCO\n"
     ]
    }
   ],
   "source": [
    "for observation_id in observation_ids:\n",
    "    record = ObservationRecord.objects.create(\n",
    "    target=target,\n",
    "    facility='LCO',\n",
    "    parameters=form.serialize_parameters(),\n",
    "    observation_id=observation_id)\n",
    "    print(record)"
   ]
  },
  {
   "cell_type": "code",
   "execution_count": null,
   "metadata": {},
   "outputs": [],
   "source": []
  }
 ],
 "metadata": {
  "kernelspec": {
   "display_name": "Django Shell-Plus",
   "language": "python",
   "name": "django_extensions"
  },
  "language_info": {
   "codemirror_mode": {
    "name": "ipython",
    "version": 3
   },
   "file_extension": ".py",
   "mimetype": "text/x-python",
   "name": "python",
   "nbconvert_exporter": "python",
   "pygments_lexer": "ipython3",
   "version": "3.7.1"
  }
 },
 "nbformat": 4,
 "nbformat_minor": 2
}
